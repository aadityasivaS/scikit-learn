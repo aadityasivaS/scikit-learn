{
 "cells": [
  {
   "cell_type": "markdown",
   "id": "33f08bbf",
   "metadata": {},
   "source": [
    "# Scikit Learn"
   ]
  },
  {
   "cell_type": "markdown",
   "id": "0e5b594f",
   "metadata": {},
   "source": [
    "## 1. Loading the dataset\n",
    "The data set will be using for this is the famous “20 Newsgoup” data set. About the data from the original website:\n",
    "This data set is in-built in scikit, so we don’t need to download it explicitly."
   ]
  },
  {
   "cell_type": "code",
   "execution_count": 1,
   "id": "b1be808a",
   "metadata": {},
   "outputs": [],
   "source": [
    "from sklearn.datasets import fetch_20newsgroups\n",
    "twenty_train = fetch_20newsgroups(subset='train', shuffle=True)"
   ]
  },
  {
   "cell_type": "code",
   "execution_count": 2,
   "id": "7c7c9abd",
   "metadata": {},
   "outputs": [
    {
     "name": "stdout",
     "output_type": "stream",
     "text": [
      "From: lerxst@wam.umd.edu (where's my thing)\n",
      "Subject: WHAT car is this!?\n",
      "Nntp-Posting-Host: rac3.wam.umd.edu\n"
     ]
    }
   ],
   "source": [
    "twenty_train.target_names #prints all the categories\n",
    "print(\"\\n\".join(twenty_train.data[0].split(\"\\n\")[:3])) #prints first line of the first data file"
   ]
  },
  {
   "cell_type": "markdown",
   "id": "db1a4614",
   "metadata": {},
   "source": [
    "## 2. Extracting features from text files"
   ]
  },
  {
   "cell_type": "code",
   "execution_count": 3,
   "id": "8eb3b714",
   "metadata": {},
   "outputs": [
    {
     "data": {
      "text/plain": [
       "(11314, 130107)"
      ]
     },
     "execution_count": 3,
     "metadata": {},
     "output_type": "execute_result"
    }
   ],
   "source": [
    "from sklearn.feature_extraction.text import CountVectorizer\n",
    "count_vect = CountVectorizer()\n",
    "X_train_counts = count_vect.fit_transform(twenty_train.data)\n",
    "X_train_counts.shape"
   ]
  },
  {
   "cell_type": "markdown",
   "id": "fa03de04",
   "metadata": {},
   "source": [
    "### Finding TF-IDF"
   ]
  },
  {
   "cell_type": "code",
   "execution_count": 4,
   "id": "288912cf",
   "metadata": {},
   "outputs": [
    {
     "data": {
      "text/plain": [
       "(11314, 130107)"
      ]
     },
     "execution_count": 4,
     "metadata": {},
     "output_type": "execute_result"
    }
   ],
   "source": [
    "from sklearn.feature_extraction.text import TfidfTransformer\n",
    "tfidf_transformer = TfidfTransformer()\n",
    "X_train_tfidf = tfidf_transformer.fit_transform(X_train_counts)\n",
    "X_train_tfidf.shape"
   ]
  },
  {
   "cell_type": "markdown",
   "id": "b0345c3d",
   "metadata": {},
   "source": [
    "## 3. Running ML algorithms"
   ]
  },
  {
   "cell_type": "code",
   "execution_count": 5,
   "id": "f8a4cbc9",
   "metadata": {},
   "outputs": [],
   "source": [
    "from sklearn.naive_bayes import MultinomialNB\n",
    "clf = MultinomialNB().fit(X_train_tfidf, twenty_train.target)"
   ]
  },
  {
   "cell_type": "markdown",
   "id": "110bba2b",
   "metadata": {},
   "source": [
    "This will train the NB classifier on the training data we provided."
   ]
  },
  {
   "cell_type": "markdown",
   "id": "202211c0",
   "metadata": {},
   "source": [
    "**Building a pipeline:** We can write less code and do all of the above, by building a pipeline as follows:"
   ]
  },
  {
   "cell_type": "code",
   "execution_count": 6,
   "id": "d50942d5",
   "metadata": {},
   "outputs": [],
   "source": [
    "from sklearn.pipeline import Pipeline\n",
    "text_clf = Pipeline(\n",
    "    [\n",
    "        (\"vect\", CountVectorizer()),\n",
    "        (\"tfidf\", TfidfTransformer()),\n",
    "        (\"clf\", MultinomialNB()),\n",
    "    ]\n",
    ")\n",
    "text_clf = text_clf.fit(twenty_train.data, twenty_train.target)"
   ]
  },
  {
   "cell_type": "markdown",
   "id": "6fada2b0",
   "metadata": {},
   "source": [
    "### Performance of NB classifier"
   ]
  },
  {
   "cell_type": "code",
   "execution_count": 7,
   "id": "b489e884",
   "metadata": {},
   "outputs": [
    {
     "name": "stdout",
     "output_type": "stream",
     "text": [
      "77.38980350504514 % Accuracy\n"
     ]
    }
   ],
   "source": [
    "import numpy as np\n",
    "twenty_test = fetch_20newsgroups(subset='test', shuffle=True)\n",
    "predicted = text_clf.predict(twenty_test.data)\n",
    "print(str(np.mean(predicted == twenty_test.target)*100) + ' % Accuracy')"
   ]
  },
  {
   "cell_type": "markdown",
   "id": "2d27168e",
   "metadata": {},
   "source": [
    "To improve the accuracy we can change the algorithm"
   ]
  },
  {
   "cell_type": "code",
   "execution_count": 8,
   "id": "7896a60d",
   "metadata": {},
   "outputs": [
    {
     "name": "stdout",
     "output_type": "stream",
     "text": [
      "77.38980350504514 % Accuracy\n"
     ]
    }
   ],
   "source": [
    "from sklearn.linear_model import SGDClassifier\n",
    "text_clf_svm = Pipeline([\n",
    "    ('vect', CountVectorizer()),\n",
    "    ('tfidf', TfidfTransformer()),\n",
    "    ('clf-svm', SGDClassifier(loss='hinge', penalty='l2',alpha=1e-3, random_state=42)),\n",
    "])\n",
    "_ = text_clf_svm.fit(twenty_train.data, twenty_train.target)\n",
    "predicted_svm = text_clf_svm.predict(twenty_test.data)\n",
    "\n",
    "print(str(np.mean(predicted == twenty_test.target)*100) + ' % Accuracy')"
   ]
  },
  {
   "cell_type": "markdown",
   "id": "77296a41",
   "metadata": {},
   "source": [
    "## 5. Grid Search"
   ]
  },
  {
   "cell_type": "markdown",
   "id": "de8895e1",
   "metadata": {},
   "source": [
    "tuning the model to incresae accuracy even more\n",
    "**This will take a long time to run**"
   ]
  },
  {
   "cell_type": "code",
   "execution_count": 9,
   "id": "11caf91b",
   "metadata": {},
   "outputs": [
    {
     "name": "stdout",
     "output_type": "stream",
     "text": [
      "0.9157684864695698 % Accuracy\n"
     ]
    }
   ],
   "source": [
    "from sklearn.model_selection import GridSearchCV\n",
    "parameters = {\n",
    "    'vect__ngram_range': [(1, 1), (1, 2)],\n",
    "    'tfidf__use_idf': (True, False),\n",
    "    'clf__alpha': (1e-2, 1e-3),\n",
    "}\n",
    "gs_clf = GridSearchCV(text_clf, parameters, n_jobs=-1)\n",
    "gs_clf = gs_clf.fit(twenty_train.data, twenty_train.target)\n",
    "gs_clf.best_params_\n",
    "gs_clf.best_score_\n",
    "print(str(gs_clf.best_score_) + ' % Accuracy')"
   ]
  },
  {
   "cell_type": "markdown",
   "id": "4c7278d6",
   "metadata": {},
   "source": [
    "### 🎊🎊🎊 A accuracay of 90% Much better!"
   ]
  }
 ],
 "metadata": {
  "kernelspec": {
   "display_name": "Python [conda env:nltk] *",
   "language": "python",
   "name": "conda-env-nltk-py"
  },
  "language_info": {
   "codemirror_mode": {
    "name": "ipython",
    "version": 3
   },
   "file_extension": ".py",
   "mimetype": "text/x-python",
   "name": "python",
   "nbconvert_exporter": "python",
   "pygments_lexer": "ipython3",
   "version": "3.8.8"
  }
 },
 "nbformat": 4,
 "nbformat_minor": 5
}
